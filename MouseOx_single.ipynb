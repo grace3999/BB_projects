{
  "nbformat": 4,
  "nbformat_minor": 0,
  "metadata": {
    "kernelspec": {
      "display_name": "Python 3",
      "language": "python",
      "name": "python3"
    },
    "language_info": {
      "codemirror_mode": {
        "name": "ipython",
        "version": 3
      },
      "file_extension": ".py",
      "mimetype": "text/x-python",
      "name": "python",
      "nbconvert_exporter": "python",
      "pygments_lexer": "ipython3",
      "version": "3.6.12"
    },
    "toc": {
      "base_numbering": 1,
      "nav_menu": {},
      "number_sections": true,
      "sideBar": true,
      "skip_h1_title": false,
      "title_cell": "Table of Contents",
      "title_sidebar": "Contents",
      "toc_cell": false,
      "toc_position": {},
      "toc_section_display": true,
      "toc_window_display": true
    },
    "colab": {
      "name": "MouseOx_single.ipynb",
      "provenance": [],
      "collapsed_sections": [],
      "include_colab_link": true
    }
  },
  "cells": [
    {
      "cell_type": "markdown",
      "metadata": {
        "id": "view-in-github",
        "colab_type": "text"
      },
      "source": [
        "<a href=\"https://colab.research.google.com/github/grace3999/BB_projects/blob/master/MouseOx_single.ipynb\" target=\"_parent\"><img src=\"https://colab.research.google.com/assets/colab-badge.svg\" alt=\"Open In Colab\"/></a>"
      ]
    },
    {
      "cell_type": "code",
      "metadata": {
        "colab": {
          "base_uri": "https://localhost:8080/"
        },
        "id": "rTbRcctBqSOK",
        "outputId": "3cddcf15-90ce-4822-c1a9-de6759776b58"
      },
      "source": [
        "#mount google drive containings required files: 1) csv of annotation features, 2) netcdf files\n",
        "from google.colab import drive\n",
        "drive.mount('/content/gdrive')"
      ],
      "execution_count": 1,
      "outputs": [
        {
          "output_type": "stream",
          "text": [
            "Mounted at /content/gdrive\n"
          ],
          "name": "stdout"
        }
      ]
    },
    {
      "cell_type": "code",
      "metadata": {
        "colab": {
          "base_uri": "https://localhost:8080/"
        },
        "id": "yrCtRXh9rsGN",
        "outputId": "6c4a0b46-5b18-4284-b416-0fe719f3cc52"
      },
      "source": [
        "ls"
      ],
      "execution_count": 26,
      "outputs": [
        {
          "output_type": "stream",
          "text": [
            "1359_210505_EX_1.txt  1366_210505_EX_1.txt  1373_210512_EX_1.txt\n",
            "1360_210505_EX_1.txt  1367_210505_EX_1.txt  1377_210512_EX_1.txt\n",
            "1361_210505_EX_1.txt  1368_210505_EX_1.txt  1378_210512_EX_1.txt\n",
            "1362_210505_EX_1.txt  1369_210505_EX_1.txt  1379_210512_EX_1.txt\n",
            "1363_210505_EX_1.txt  1370_210505_EX_1.txt  1382_210512_EX_1.txt\n",
            "1364_210505_EX_1.txt  1371_210512_EX_1.txt\n",
            "1365_210505_EX_1.txt  1372_210512_EX_1.txt\n"
          ],
          "name": "stdout"
        }
      ]
    },
    {
      "cell_type": "code",
      "metadata": {
        "id": "1z8PwxvOppCE"
      },
      "source": [
        "#getting and working with data\n",
        "import pandas as pd\n",
        "import numpy as np\n",
        "import re\n",
        "import os\n",
        "import datetime as dt\n",
        "import string\n",
        "import scipy\n",
        "\n",
        "#visualizing results\n",
        "import matplotlib.pyplot as plt\n",
        "%matplotlib inline\n",
        "import seaborn as sns\n",
        "sns.set_context(\"poster\")\n",
        "sns.set_style(\"ticks\")\n",
        "\n",
        "pd.set_option('display.max_rows', 500)\n",
        "pd.set_option('display.max_columns', 500)\n",
        "pd.set_option('display.width', 15000)\n",
        "pd.set_option('display.max_colwidth', None)\n",
        "\n",
        "import warnings; warnings.simplefilter('ignore')\n",
        "np.set_printoptions(suppress=True)"
      ],
      "execution_count": 28,
      "outputs": []
    },
    {
      "cell_type": "markdown",
      "metadata": {
        "id": "fr6YuvSbppCH"
      },
      "source": [
        "### Plan on attack!\n",
        "\n",
        "- read in folder containing data files\n",
        "- for each data file\n",
        "    - clean (update column names, drop first 2 rows with param metadata)\n",
        "- for final data frame\n",
        "    - reset_index for each animal separately (so have same time series)\n",
        "    - update data types\n",
        "    - filter out bad data (use error codes)\n",
        "    \n",
        "- questions to figure out\n",
        "    - are some error codes more common at beginning of recording etc\n"
      ]
    },
    {
      "cell_type": "markdown",
      "metadata": {
        "id": "eizDbZ_3ppCI"
      },
      "source": [
        "### Analysis plan!\n",
        "\n",
        "- previous pubs:\n",
        "    - bin by 5 min\n",
        "        - can be raw or fold change (some show both)\n",
        "- for us:\n",
        "    - is there autonomic differences immediately coming out of iso in sham vs. blast\n",
        "        - compare first 30, 60, 90 seconds \n",
        "        - compare rate of change\n",
        "    - is there autonomic differences immediately after LORR recovery in sham vs. blast\n",
        "        - compare first 30, 60, 90 seconds \n",
        "            - normalize to initial 30 seconds out of iso?\n",
        "            - normalize to final 30 seconds before LORR flip?\n",
        "    - are there differences between sham vs. blast in awake baseline compared to exposure iso"
      ]
    },
    {
      "cell_type": "markdown",
      "metadata": {
        "id": "C7_t2ocNppCI"
      },
      "source": [
        "### Get and clean data"
      ]
    },
    {
      "cell_type": "code",
      "metadata": {
        "colab": {
          "base_uri": "https://localhost:8080/"
        },
        "id": "u0vDSblgppCI",
        "outputId": "68dc3aa0-a016-44a2-fe47-b84aeb7a2d64"
      },
      "source": [
        "path = '/content/gdrive/Shareddrives/Schindler Lab/data/MouseOx/data/EX1'\n",
        "\n",
        "files = os.listdir(path)\n",
        "\n",
        "data_file_paths = []\n",
        "for file in files:\n",
        "    file_path = path + '/' + file\n",
        "    data_file_paths.append(file_path)\n",
        "    \n",
        "data_file_paths"
      ],
      "execution_count": 33,
      "outputs": [
        {
          "output_type": "execute_result",
          "data": {
            "text/plain": [
              "['/content/gdrive/Shareddrives/Schindler Lab/data/MouseOx/data/EX1/1360_210505_EX_1.txt',\n",
              " '/content/gdrive/Shareddrives/Schindler Lab/data/MouseOx/data/EX1/1359_210505_EX_1.txt',\n",
              " '/content/gdrive/Shareddrives/Schindler Lab/data/MouseOx/data/EX1/1361_210505_EX_1.txt',\n",
              " '/content/gdrive/Shareddrives/Schindler Lab/data/MouseOx/data/EX1/1362_210505_EX_1.txt',\n",
              " '/content/gdrive/Shareddrives/Schindler Lab/data/MouseOx/data/EX1/1363_210505_EX_1.txt',\n",
              " '/content/gdrive/Shareddrives/Schindler Lab/data/MouseOx/data/EX1/1364_210505_EX_1.txt',\n",
              " '/content/gdrive/Shareddrives/Schindler Lab/data/MouseOx/data/EX1/1365_210505_EX_1.txt',\n",
              " '/content/gdrive/Shareddrives/Schindler Lab/data/MouseOx/data/EX1/1366_210505_EX_1.txt',\n",
              " '/content/gdrive/Shareddrives/Schindler Lab/data/MouseOx/data/EX1/1367_210505_EX_1.txt',\n",
              " '/content/gdrive/Shareddrives/Schindler Lab/data/MouseOx/data/EX1/1368_210505_EX_1.txt',\n",
              " '/content/gdrive/Shareddrives/Schindler Lab/data/MouseOx/data/EX1/1369_210505_EX_1.txt',\n",
              " '/content/gdrive/Shareddrives/Schindler Lab/data/MouseOx/data/EX1/1370_210505_EX_1.txt',\n",
              " '/content/gdrive/Shareddrives/Schindler Lab/data/MouseOx/data/EX1/1371_210512_EX_1.txt',\n",
              " '/content/gdrive/Shareddrives/Schindler Lab/data/MouseOx/data/EX1/1372_210512_EX_1.txt',\n",
              " '/content/gdrive/Shareddrives/Schindler Lab/data/MouseOx/data/EX1/1373_210512_EX_1.txt',\n",
              " '/content/gdrive/Shareddrives/Schindler Lab/data/MouseOx/data/EX1/1377_210512_EX_1.txt',\n",
              " '/content/gdrive/Shareddrives/Schindler Lab/data/MouseOx/data/EX1/1378_210512_EX_1.txt',\n",
              " '/content/gdrive/Shareddrives/Schindler Lab/data/MouseOx/data/EX1/1379_210512_EX_1.txt',\n",
              " '/content/gdrive/Shareddrives/Schindler Lab/data/MouseOx/data/EX1/1382_210512_EX_1.txt']"
            ]
          },
          "metadata": {
            "tags": []
          },
          "execution_count": 33
        }
      ]
    },
    {
      "cell_type": "code",
      "metadata": {
        "id": "4WtPfKSMppCJ",
        "outputId": "3631e833-5591-42cd-ba5a-53bc7664f0d9"
      },
      "source": [
        "final_data = pd.DataFrame()\n",
        "\n",
        "for file in data_file_paths:\n",
        "    print(file)\n",
        "    \n",
        "    if file.split('/')[-1] == '.DS_Store':\n",
        "        continue\n",
        "     \n",
        "    #get file meta data\n",
        "    animal = file.split('/')[-1].split('_')[0]\n",
        "    date = file.split('/')[-1].split('_')[1]\n",
        "    \n",
        "    #make dataframe\n",
        "    data_int = pd.read_table(file, sep=',') \n",
        "    data_int = pd.DataFrame(data = data_int)\n",
        "    \n",
        "    #drop un used columns\n",
        "    data_int = data_int.drop(['Custom ID', 'Subject', 'Core', '15Hz'], axis=1)\n",
        "    \n",
        "    #update columns names\n",
        "    data_int.columns = ['time_sec', 'file_marker', 'error_code', \n",
        "                        'O2_sat', 'hr_bpm', 'br_brpm', 'pd_um', 'bd_um', 'activity', 'datetime']\n",
        "    \n",
        "    #drop rows with param meta data\n",
        "    data_int = data_int.drop([0, 1], axis=0)\n",
        "    \n",
        "    #add meta data\n",
        "    data_int['animal'] = animal\n",
        "    data_int['date'] = date\n",
        "        \n",
        "    #reset time index\n",
        "    if final_data.empty:\n",
        "        final_data = data_int\n",
        "    else:\n",
        "        final_data = pd.concat([final_data, data_int], axis=0)\n",
        "        \n",
        "    print(final_data.shape,'\\n')\n",
        "    \n",
        "final_data.head()"
      ],
      "execution_count": null,
      "outputs": [
        {
          "output_type": "stream",
          "text": [
            "/Users/abbieschindler/Documents/Schindler_Lab/Data/MouseOx/050521_single/1370_050521_EX.txt\n",
            "(6900, 12) \n",
            "\n",
            "/Users/abbieschindler/Documents/Schindler_Lab/Data/MouseOx/050521_single/1367_050521_EX.txt\n",
            "(13160, 12) \n",
            "\n",
            "/Users/abbieschindler/Documents/Schindler_Lab/Data/MouseOx/050521_single/1363_050521_EX.txt\n",
            "(23560, 12) \n",
            "\n",
            "/Users/abbieschindler/Documents/Schindler_Lab/Data/MouseOx/050521_single/1364_050521_EX.txt\n",
            "(32560, 12) \n",
            "\n",
            "/Users/abbieschindler/Documents/Schindler_Lab/Data/MouseOx/050521_single/1360_050521_EX.txt\n",
            "(38340, 12) \n",
            "\n",
            "/Users/abbieschindler/Documents/Schindler_Lab/Data/MouseOx/050521_single/1359_050521_EX.txt\n",
            "(44480, 12) \n",
            "\n",
            "/Users/abbieschindler/Documents/Schindler_Lab/Data/MouseOx/050521_single/1369_050521_EX.txt\n",
            "(50960, 12) \n",
            "\n",
            "/Users/abbieschindler/Documents/Schindler_Lab/Data/MouseOx/050521_single/1368_050521_EX.txt\n",
            "(56740, 12) \n",
            "\n",
            "/Users/abbieschindler/Documents/Schindler_Lab/Data/MouseOx/050521_single/1361_050521_EX.txt\n",
            "(61380, 12) \n",
            "\n",
            "/Users/abbieschindler/Documents/Schindler_Lab/Data/MouseOx/050521_single/1365_050521_EX.txt\n",
            "(67160, 12) \n",
            "\n",
            "/Users/abbieschindler/Documents/Schindler_Lab/Data/MouseOx/050521_single/1362_050521_EX.txt\n",
            "(75320, 12) \n",
            "\n",
            "/Users/abbieschindler/Documents/Schindler_Lab/Data/MouseOx/050521_single/1366_050521_EX.txt\n",
            "(81020, 12) \n",
            "\n"
          ],
          "name": "stdout"
        },
        {
          "output_type": "execute_result",
          "data": {
            "text/html": [
              "<div>\n",
              "<style scoped>\n",
              "    .dataframe tbody tr th:only-of-type {\n",
              "        vertical-align: middle;\n",
              "    }\n",
              "\n",
              "    .dataframe tbody tr th {\n",
              "        vertical-align: top;\n",
              "    }\n",
              "\n",
              "    .dataframe thead th {\n",
              "        text-align: right;\n",
              "    }\n",
              "</style>\n",
              "<table border=\"1\" class=\"dataframe\">\n",
              "  <thead>\n",
              "    <tr style=\"text-align: right;\">\n",
              "      <th></th>\n",
              "      <th>time_sec</th>\n",
              "      <th>file_marker</th>\n",
              "      <th>error_code</th>\n",
              "      <th>O2_sat</th>\n",
              "      <th>hr_bpm</th>\n",
              "      <th>br_brpm</th>\n",
              "      <th>pd_um</th>\n",
              "      <th>bd_um</th>\n",
              "      <th>activity</th>\n",
              "      <th>datetime</th>\n",
              "      <th>animal</th>\n",
              "      <th>date</th>\n",
              "    </tr>\n",
              "  </thead>\n",
              "  <tbody>\n",
              "    <tr>\n",
              "      <th>2</th>\n",
              "      <td>0</td>\n",
              "      <td>1</td>\n",
              "      <td>0</td>\n",
              "      <td>0</td>\n",
              "      <td>0</td>\n",
              "      <td>0</td>\n",
              "      <td>0</td>\n",
              "      <td>0</td>\n",
              "      <td>0</td>\n",
              "      <td>5/5/2021 2:25:48 PM</td>\n",
              "      <td>1370</td>\n",
              "      <td>050521</td>\n",
              "    </tr>\n",
              "    <tr>\n",
              "      <th>3</th>\n",
              "      <td>.07</td>\n",
              "      <td>1</td>\n",
              "      <td>0</td>\n",
              "      <td>0</td>\n",
              "      <td>0</td>\n",
              "      <td>0</td>\n",
              "      <td>0</td>\n",
              "      <td>0</td>\n",
              "      <td>0</td>\n",
              "      <td>5/5/2021 2:25:48 PM</td>\n",
              "      <td>1370</td>\n",
              "      <td>050521</td>\n",
              "    </tr>\n",
              "    <tr>\n",
              "      <th>4</th>\n",
              "      <td>.13</td>\n",
              "      <td>1</td>\n",
              "      <td>0</td>\n",
              "      <td>0</td>\n",
              "      <td>0</td>\n",
              "      <td>0</td>\n",
              "      <td>0</td>\n",
              "      <td>0</td>\n",
              "      <td>0</td>\n",
              "      <td>5/5/2021 2:25:48 PM</td>\n",
              "      <td>1370</td>\n",
              "      <td>050521</td>\n",
              "    </tr>\n",
              "    <tr>\n",
              "      <th>5</th>\n",
              "      <td>.2</td>\n",
              "      <td>1</td>\n",
              "      <td>0</td>\n",
              "      <td>0</td>\n",
              "      <td>0</td>\n",
              "      <td>0</td>\n",
              "      <td>0</td>\n",
              "      <td>0</td>\n",
              "      <td>0</td>\n",
              "      <td>5/5/2021 2:25:48 PM</td>\n",
              "      <td>1370</td>\n",
              "      <td>050521</td>\n",
              "    </tr>\n",
              "    <tr>\n",
              "      <th>6</th>\n",
              "      <td>.27</td>\n",
              "      <td>1</td>\n",
              "      <td>0</td>\n",
              "      <td>0</td>\n",
              "      <td>0</td>\n",
              "      <td>0</td>\n",
              "      <td>0</td>\n",
              "      <td>0</td>\n",
              "      <td>0</td>\n",
              "      <td>5/5/2021 2:25:48 PM</td>\n",
              "      <td>1370</td>\n",
              "      <td>050521</td>\n",
              "    </tr>\n",
              "  </tbody>\n",
              "</table>\n",
              "</div>"
            ],
            "text/plain": [
              "  time_sec file_marker error_code O2_sat hr_bpm br_brpm pd_um bd_um activity             datetime animal    date\n",
              "2  0        1           0          0      0      0       0     0     0        5/5/2021 2:25:48 PM  1370   050521\n",
              "3  .07      1           0          0      0      0       0     0     0        5/5/2021 2:25:48 PM  1370   050521\n",
              "4  .13      1           0          0      0      0       0     0     0        5/5/2021 2:25:48 PM  1370   050521\n",
              "5  .2       1           0          0      0      0       0     0     0        5/5/2021 2:25:48 PM  1370   050521\n",
              "6  .27      1           0          0      0      0       0     0     0        5/5/2021 2:25:48 PM  1370   050521"
            ]
          },
          "metadata": {
            "tags": []
          },
          "execution_count": 3
        }
      ]
    },
    {
      "cell_type": "code",
      "metadata": {
        "id": "oPRDOySGppCJ",
        "outputId": "6f811766-3b03-4846-ca43-86f64800a4a4"
      },
      "source": [
        "data_final_clean = final_data[['time_sec', 'animal', 'error_code', \n",
        "                                           'O2_sat', 'hr_bpm', 'br_brpm','pd_um', \n",
        "                                           'bd_um', 'activity']].astype(float)\n",
        "\n",
        "data_final_clean['datetime'] = final_data['datetime']\n",
        "data_final_clean['animal'] = final_data['animal']\n",
        "data_final_clean['date'] = final_data['date']\n",
        "\n",
        "data_final_clean['datetime'] = pd.to_datetime(data_final_clean['datetime'])\n",
        "\n",
        "#update column order\n",
        "data_final_clean =  data_final_clean[['date', 'animal', 'time_sec', 'error_code', 'O2_sat', \n",
        "                            'hr_bpm', 'br_brpm', 'pd_um', 'bd_um', 'activity', 'datetime']]\n",
        "\n",
        "data_final_clean.head()"
      ],
      "execution_count": null,
      "outputs": [
        {
          "output_type": "execute_result",
          "data": {
            "text/html": [
              "<div>\n",
              "<style scoped>\n",
              "    .dataframe tbody tr th:only-of-type {\n",
              "        vertical-align: middle;\n",
              "    }\n",
              "\n",
              "    .dataframe tbody tr th {\n",
              "        vertical-align: top;\n",
              "    }\n",
              "\n",
              "    .dataframe thead th {\n",
              "        text-align: right;\n",
              "    }\n",
              "</style>\n",
              "<table border=\"1\" class=\"dataframe\">\n",
              "  <thead>\n",
              "    <tr style=\"text-align: right;\">\n",
              "      <th></th>\n",
              "      <th>date</th>\n",
              "      <th>animal</th>\n",
              "      <th>time_sec</th>\n",
              "      <th>error_code</th>\n",
              "      <th>O2_sat</th>\n",
              "      <th>hr_bpm</th>\n",
              "      <th>br_brpm</th>\n",
              "      <th>pd_um</th>\n",
              "      <th>bd_um</th>\n",
              "      <th>activity</th>\n",
              "      <th>datetime</th>\n",
              "    </tr>\n",
              "  </thead>\n",
              "  <tbody>\n",
              "    <tr>\n",
              "      <th>2</th>\n",
              "      <td>050521</td>\n",
              "      <td>1370</td>\n",
              "      <td>0.00</td>\n",
              "      <td>0.0</td>\n",
              "      <td>0.0</td>\n",
              "      <td>0.0</td>\n",
              "      <td>0.0</td>\n",
              "      <td>0.0</td>\n",
              "      <td>0.0</td>\n",
              "      <td>0.0</td>\n",
              "      <td>2021-05-05 14:25:48</td>\n",
              "    </tr>\n",
              "    <tr>\n",
              "      <th>3</th>\n",
              "      <td>050521</td>\n",
              "      <td>1370</td>\n",
              "      <td>0.07</td>\n",
              "      <td>0.0</td>\n",
              "      <td>0.0</td>\n",
              "      <td>0.0</td>\n",
              "      <td>0.0</td>\n",
              "      <td>0.0</td>\n",
              "      <td>0.0</td>\n",
              "      <td>0.0</td>\n",
              "      <td>2021-05-05 14:25:48</td>\n",
              "    </tr>\n",
              "    <tr>\n",
              "      <th>4</th>\n",
              "      <td>050521</td>\n",
              "      <td>1370</td>\n",
              "      <td>0.13</td>\n",
              "      <td>0.0</td>\n",
              "      <td>0.0</td>\n",
              "      <td>0.0</td>\n",
              "      <td>0.0</td>\n",
              "      <td>0.0</td>\n",
              "      <td>0.0</td>\n",
              "      <td>0.0</td>\n",
              "      <td>2021-05-05 14:25:48</td>\n",
              "    </tr>\n",
              "    <tr>\n",
              "      <th>5</th>\n",
              "      <td>050521</td>\n",
              "      <td>1370</td>\n",
              "      <td>0.20</td>\n",
              "      <td>0.0</td>\n",
              "      <td>0.0</td>\n",
              "      <td>0.0</td>\n",
              "      <td>0.0</td>\n",
              "      <td>0.0</td>\n",
              "      <td>0.0</td>\n",
              "      <td>0.0</td>\n",
              "      <td>2021-05-05 14:25:48</td>\n",
              "    </tr>\n",
              "    <tr>\n",
              "      <th>6</th>\n",
              "      <td>050521</td>\n",
              "      <td>1370</td>\n",
              "      <td>0.27</td>\n",
              "      <td>0.0</td>\n",
              "      <td>0.0</td>\n",
              "      <td>0.0</td>\n",
              "      <td>0.0</td>\n",
              "      <td>0.0</td>\n",
              "      <td>0.0</td>\n",
              "      <td>0.0</td>\n",
              "      <td>2021-05-05 14:25:48</td>\n",
              "    </tr>\n",
              "  </tbody>\n",
              "</table>\n",
              "</div>"
            ],
            "text/plain": [
              "     date animal  time_sec  error_code  O2_sat  hr_bpm  br_brpm  pd_um  bd_um  activity            datetime\n",
              "2  050521  1370   0.00      0.0         0.0     0.0     0.0      0.0    0.0    0.0      2021-05-05 14:25:48\n",
              "3  050521  1370   0.07      0.0         0.0     0.0     0.0      0.0    0.0    0.0      2021-05-05 14:25:48\n",
              "4  050521  1370   0.13      0.0         0.0     0.0     0.0      0.0    0.0    0.0      2021-05-05 14:25:48\n",
              "5  050521  1370   0.20      0.0         0.0     0.0     0.0      0.0    0.0    0.0      2021-05-05 14:25:48\n",
              "6  050521  1370   0.27      0.0         0.0     0.0     0.0      0.0    0.0    0.0      2021-05-05 14:25:48"
            ]
          },
          "metadata": {
            "tags": []
          },
          "execution_count": 4
        }
      ]
    },
    {
      "cell_type": "code",
      "metadata": {
        "id": "sxv1NwL2ppCK",
        "outputId": "220a475e-ed5d-45ea-abde-053ba2f1bcbd"
      },
      "source": [
        "data_final_clean['animal'].value_counts()\n",
        "\n",
        "groups_dict = {'1359':'ss', \n",
        "               '1360':'ss',\n",
        "               '1361':'ss', \n",
        "               '1362':'bs', \n",
        "               '1363':'bs', \n",
        "               '1364':'bs', \n",
        "               '1365':'sv', \n",
        "               '1366':'sv',\n",
        "               '1367':'sv', \n",
        "               '1368':'bv', \n",
        "               '1369':'bv', \n",
        "               '1370':'bv'}\n",
        "\n",
        "data_final_clean['group'] = data_final_clean['animal'].map(groups_dict)\n",
        "\n",
        "data_final_clean.head()"
      ],
      "execution_count": null,
      "outputs": [
        {
          "output_type": "execute_result",
          "data": {
            "text/html": [
              "<div>\n",
              "<style scoped>\n",
              "    .dataframe tbody tr th:only-of-type {\n",
              "        vertical-align: middle;\n",
              "    }\n",
              "\n",
              "    .dataframe tbody tr th {\n",
              "        vertical-align: top;\n",
              "    }\n",
              "\n",
              "    .dataframe thead th {\n",
              "        text-align: right;\n",
              "    }\n",
              "</style>\n",
              "<table border=\"1\" class=\"dataframe\">\n",
              "  <thead>\n",
              "    <tr style=\"text-align: right;\">\n",
              "      <th></th>\n",
              "      <th>date</th>\n",
              "      <th>animal</th>\n",
              "      <th>time_sec</th>\n",
              "      <th>error_code</th>\n",
              "      <th>O2_sat</th>\n",
              "      <th>hr_bpm</th>\n",
              "      <th>br_brpm</th>\n",
              "      <th>pd_um</th>\n",
              "      <th>bd_um</th>\n",
              "      <th>activity</th>\n",
              "      <th>datetime</th>\n",
              "      <th>group</th>\n",
              "    </tr>\n",
              "  </thead>\n",
              "  <tbody>\n",
              "    <tr>\n",
              "      <th>2</th>\n",
              "      <td>050521</td>\n",
              "      <td>1370</td>\n",
              "      <td>0.00</td>\n",
              "      <td>0.0</td>\n",
              "      <td>0.0</td>\n",
              "      <td>0.0</td>\n",
              "      <td>0.0</td>\n",
              "      <td>0.0</td>\n",
              "      <td>0.0</td>\n",
              "      <td>0.0</td>\n",
              "      <td>2021-05-05 14:25:48</td>\n",
              "      <td>bv</td>\n",
              "    </tr>\n",
              "    <tr>\n",
              "      <th>3</th>\n",
              "      <td>050521</td>\n",
              "      <td>1370</td>\n",
              "      <td>0.07</td>\n",
              "      <td>0.0</td>\n",
              "      <td>0.0</td>\n",
              "      <td>0.0</td>\n",
              "      <td>0.0</td>\n",
              "      <td>0.0</td>\n",
              "      <td>0.0</td>\n",
              "      <td>0.0</td>\n",
              "      <td>2021-05-05 14:25:48</td>\n",
              "      <td>bv</td>\n",
              "    </tr>\n",
              "    <tr>\n",
              "      <th>4</th>\n",
              "      <td>050521</td>\n",
              "      <td>1370</td>\n",
              "      <td>0.13</td>\n",
              "      <td>0.0</td>\n",
              "      <td>0.0</td>\n",
              "      <td>0.0</td>\n",
              "      <td>0.0</td>\n",
              "      <td>0.0</td>\n",
              "      <td>0.0</td>\n",
              "      <td>0.0</td>\n",
              "      <td>2021-05-05 14:25:48</td>\n",
              "      <td>bv</td>\n",
              "    </tr>\n",
              "    <tr>\n",
              "      <th>5</th>\n",
              "      <td>050521</td>\n",
              "      <td>1370</td>\n",
              "      <td>0.20</td>\n",
              "      <td>0.0</td>\n",
              "      <td>0.0</td>\n",
              "      <td>0.0</td>\n",
              "      <td>0.0</td>\n",
              "      <td>0.0</td>\n",
              "      <td>0.0</td>\n",
              "      <td>0.0</td>\n",
              "      <td>2021-05-05 14:25:48</td>\n",
              "      <td>bv</td>\n",
              "    </tr>\n",
              "    <tr>\n",
              "      <th>6</th>\n",
              "      <td>050521</td>\n",
              "      <td>1370</td>\n",
              "      <td>0.27</td>\n",
              "      <td>0.0</td>\n",
              "      <td>0.0</td>\n",
              "      <td>0.0</td>\n",
              "      <td>0.0</td>\n",
              "      <td>0.0</td>\n",
              "      <td>0.0</td>\n",
              "      <td>0.0</td>\n",
              "      <td>2021-05-05 14:25:48</td>\n",
              "      <td>bv</td>\n",
              "    </tr>\n",
              "  </tbody>\n",
              "</table>\n",
              "</div>"
            ],
            "text/plain": [
              "     date animal  time_sec  error_code  O2_sat  hr_bpm  br_brpm  pd_um  bd_um  activity            datetime group\n",
              "2  050521  1370   0.00      0.0         0.0     0.0     0.0      0.0    0.0    0.0      2021-05-05 14:25:48  bv  \n",
              "3  050521  1370   0.07      0.0         0.0     0.0     0.0      0.0    0.0    0.0      2021-05-05 14:25:48  bv  \n",
              "4  050521  1370   0.13      0.0         0.0     0.0     0.0      0.0    0.0    0.0      2021-05-05 14:25:48  bv  \n",
              "5  050521  1370   0.20      0.0         0.0     0.0     0.0      0.0    0.0    0.0      2021-05-05 14:25:48  bv  \n",
              "6  050521  1370   0.27      0.0         0.0     0.0     0.0      0.0    0.0    0.0      2021-05-05 14:25:48  bv  "
            ]
          },
          "metadata": {
            "tags": []
          },
          "execution_count": 5
        }
      ]
    },
    {
      "cell_type": "code",
      "metadata": {
        "id": "_4_zcdEeppCK",
        "outputId": "43025d1f-f3c2-4194-9818-d9b64721fa83"
      },
      "source": [
        "data_final_clean['time_sec_round'] = np.round(data_final_clean['time_sec'])\n",
        "data_final_clean.tail()"
      ],
      "execution_count": null,
      "outputs": [
        {
          "output_type": "execute_result",
          "data": {
            "text/html": [
              "<div>\n",
              "<style scoped>\n",
              "    .dataframe tbody tr th:only-of-type {\n",
              "        vertical-align: middle;\n",
              "    }\n",
              "\n",
              "    .dataframe tbody tr th {\n",
              "        vertical-align: top;\n",
              "    }\n",
              "\n",
              "    .dataframe thead th {\n",
              "        text-align: right;\n",
              "    }\n",
              "</style>\n",
              "<table border=\"1\" class=\"dataframe\">\n",
              "  <thead>\n",
              "    <tr style=\"text-align: right;\">\n",
              "      <th></th>\n",
              "      <th>date</th>\n",
              "      <th>animal</th>\n",
              "      <th>time_sec</th>\n",
              "      <th>error_code</th>\n",
              "      <th>O2_sat</th>\n",
              "      <th>hr_bpm</th>\n",
              "      <th>br_brpm</th>\n",
              "      <th>pd_um</th>\n",
              "      <th>bd_um</th>\n",
              "      <th>activity</th>\n",
              "      <th>datetime</th>\n",
              "      <th>group</th>\n",
              "      <th>time_sec_round</th>\n",
              "    </tr>\n",
              "  </thead>\n",
              "  <tbody>\n",
              "    <tr>\n",
              "      <th>5697</th>\n",
              "      <td>050521</td>\n",
              "      <td>1366</td>\n",
              "      <td>379.69</td>\n",
              "      <td>7.0</td>\n",
              "      <td>97.2</td>\n",
              "      <td>780.0</td>\n",
              "      <td>184.0</td>\n",
              "      <td>378.0</td>\n",
              "      <td>0.0</td>\n",
              "      <td>1.0</td>\n",
              "      <td>2021-05-05 13:33:50</td>\n",
              "      <td>sv</td>\n",
              "      <td>380.0</td>\n",
              "    </tr>\n",
              "    <tr>\n",
              "      <th>5698</th>\n",
              "      <td>050521</td>\n",
              "      <td>1366</td>\n",
              "      <td>379.76</td>\n",
              "      <td>7.0</td>\n",
              "      <td>97.2</td>\n",
              "      <td>780.0</td>\n",
              "      <td>184.0</td>\n",
              "      <td>378.0</td>\n",
              "      <td>0.0</td>\n",
              "      <td>1.0</td>\n",
              "      <td>2021-05-05 13:33:50</td>\n",
              "      <td>sv</td>\n",
              "      <td>380.0</td>\n",
              "    </tr>\n",
              "    <tr>\n",
              "      <th>5699</th>\n",
              "      <td>050521</td>\n",
              "      <td>1366</td>\n",
              "      <td>379.82</td>\n",
              "      <td>7.0</td>\n",
              "      <td>97.2</td>\n",
              "      <td>780.0</td>\n",
              "      <td>184.0</td>\n",
              "      <td>378.0</td>\n",
              "      <td>0.0</td>\n",
              "      <td>1.0</td>\n",
              "      <td>2021-05-05 13:33:50</td>\n",
              "      <td>sv</td>\n",
              "      <td>380.0</td>\n",
              "    </tr>\n",
              "    <tr>\n",
              "      <th>5700</th>\n",
              "      <td>050521</td>\n",
              "      <td>1366</td>\n",
              "      <td>379.89</td>\n",
              "      <td>7.0</td>\n",
              "      <td>97.2</td>\n",
              "      <td>780.0</td>\n",
              "      <td>184.0</td>\n",
              "      <td>378.0</td>\n",
              "      <td>0.0</td>\n",
              "      <td>1.0</td>\n",
              "      <td>2021-05-05 13:33:50</td>\n",
              "      <td>sv</td>\n",
              "      <td>380.0</td>\n",
              "    </tr>\n",
              "    <tr>\n",
              "      <th>5701</th>\n",
              "      <td>050521</td>\n",
              "      <td>1366</td>\n",
              "      <td>379.96</td>\n",
              "      <td>7.0</td>\n",
              "      <td>97.0</td>\n",
              "      <td>780.0</td>\n",
              "      <td>184.0</td>\n",
              "      <td>378.0</td>\n",
              "      <td>0.0</td>\n",
              "      <td>1.0</td>\n",
              "      <td>2021-05-05 13:33:50</td>\n",
              "      <td>sv</td>\n",
              "      <td>380.0</td>\n",
              "    </tr>\n",
              "  </tbody>\n",
              "</table>\n",
              "</div>"
            ],
            "text/plain": [
              "        date animal  time_sec  error_code  O2_sat  hr_bpm  br_brpm  pd_um  bd_um  activity            datetime group  time_sec_round\n",
              "5697  050521  1366   379.69    7.0         97.2    780.0   184.0    378.0  0.0    1.0      2021-05-05 13:33:50  sv    380.0         \n",
              "5698  050521  1366   379.76    7.0         97.2    780.0   184.0    378.0  0.0    1.0      2021-05-05 13:33:50  sv    380.0         \n",
              "5699  050521  1366   379.82    7.0         97.2    780.0   184.0    378.0  0.0    1.0      2021-05-05 13:33:50  sv    380.0         \n",
              "5700  050521  1366   379.89    7.0         97.2    780.0   184.0    378.0  0.0    1.0      2021-05-05 13:33:50  sv    380.0         \n",
              "5701  050521  1366   379.96    7.0         97.0    780.0   184.0    378.0  0.0    1.0      2021-05-05 13:33:50  sv    380.0         "
            ]
          },
          "metadata": {
            "tags": []
          },
          "execution_count": 6
        }
      ]
    },
    {
      "cell_type": "markdown",
      "metadata": {
        "id": "j8CoZ7T7ppCK"
      },
      "source": [
        "### viz/drop data that is 'unsure'"
      ]
    },
    {
      "cell_type": "code",
      "metadata": {
        "id": "_z6KA7c5ppCK"
      },
      "source": [
        "data_final_clean.sort_values('animal')['animal'].unique()"
      ],
      "execution_count": null,
      "outputs": []
    },
    {
      "cell_type": "code",
      "metadata": {
        "id": "ihqieT-QppCL"
      },
      "source": [
        "sns.countplot(x='error_code', data=data_final_clean)"
      ],
      "execution_count": null,
      "outputs": []
    },
    {
      "cell_type": "code",
      "metadata": {
        "id": "p3P-XUeippCL"
      },
      "source": [
        "plt.figure(figsize=(15,5))\n",
        "sns.catplot(x='error_code', data=data_final_clean[data_final_clean['time_sec']<60], kind='count',\n",
        "              col='time_sec_round', col_wrap=5, sharex=False)"
      ],
      "execution_count": null,
      "outputs": []
    },
    {
      "cell_type": "code",
      "metadata": {
        "id": "TWNJ0cHZppCL"
      },
      "source": [
        "data_final_clean[(data_final_clean['time_sec']<5)][0:100]"
      ],
      "execution_count": null,
      "outputs": []
    },
    {
      "cell_type": "markdown",
      "metadata": {
        "id": "IfJZ58qippCL"
      },
      "source": [
        "![image.png](attachment:image.png)"
      ]
    },
    {
      "cell_type": "code",
      "metadata": {
        "id": "tNcSAF2fppCM"
      },
      "source": [
        "def raster_error_code(data, animal, error_list, error_names):\n",
        "    data_dict = {}\n",
        "    colorCodes = ['C{}'.format(i) for i in range(len(error_list))]\n",
        "    \n",
        "    data_int = data_final_clean[data_final_clean['animal']==animal]\n",
        "\n",
        "    for code in error_list:\n",
        "\n",
        "        data_dict[code] = data_int[data_int['error_code'] == code]['time_sec'].values\n",
        "        \n",
        "    # Draw a spike raster plot\n",
        "    plt.figure(figsize=(50,15))\n",
        "    params = {'axes.labelsize': 75,\n",
        "              'axes.titlesize': 75}\n",
        "    plt.rc('xtick', labelsize=40) \n",
        "    plt.rc('ytick', labelsize=40) \n",
        "    plt.rcParams.update(params)\n",
        "    plt.yticks(np.arange(0,len(error_list)), error_names) \n",
        "    plt.eventplot(data_dict.values(), color=colorCodes, linelengths = 0.3) \n",
        "    plt.xlabel('Time')\n",
        "    plt.ylabel('Error Code')\n",
        "\n",
        "\n",
        "    plt.show()    \n"
      ],
      "execution_count": null,
      "outputs": []
    },
    {
      "cell_type": "code",
      "metadata": {
        "scrolled": true,
        "id": "HrMnjeFGppCM"
      },
      "source": [
        "error_list = [0,2,3,4,6,7,8,9]\n",
        "error_code = ['no_error', 'lost_pulse', 'lost_br', 'lost_SpO2', 'lost_signal', 'lost_br_SpO2', 'breath_arti', 'signal_opt']\n",
        "\n",
        "for animal in data_final_clean['animal'].unique():\n",
        "    print(animal)\n",
        "    raster_error_code(data_final_clean, animal, error_list, error_code)\n"
      ],
      "execution_count": null,
      "outputs": []
    },
    {
      "cell_type": "markdown",
      "metadata": {
        "id": "z-VuyNxvppCM"
      },
      "source": [
        "### Viz data"
      ]
    },
    {
      "cell_type": "code",
      "metadata": {
        "id": "r4P_tiUJppCM",
        "outputId": "8c1ec6e5-facc-40fe-d17b-75592b25b980"
      },
      "source": [
        "data_final_clean.head()"
      ],
      "execution_count": null,
      "outputs": [
        {
          "output_type": "execute_result",
          "data": {
            "text/html": [
              "<div>\n",
              "<style scoped>\n",
              "    .dataframe tbody tr th:only-of-type {\n",
              "        vertical-align: middle;\n",
              "    }\n",
              "\n",
              "    .dataframe tbody tr th {\n",
              "        vertical-align: top;\n",
              "    }\n",
              "\n",
              "    .dataframe thead th {\n",
              "        text-align: right;\n",
              "    }\n",
              "</style>\n",
              "<table border=\"1\" class=\"dataframe\">\n",
              "  <thead>\n",
              "    <tr style=\"text-align: right;\">\n",
              "      <th></th>\n",
              "      <th>date</th>\n",
              "      <th>animal</th>\n",
              "      <th>time_sec</th>\n",
              "      <th>error_code</th>\n",
              "      <th>O2_sat</th>\n",
              "      <th>hr_bpm</th>\n",
              "      <th>br_brpm</th>\n",
              "      <th>pd_um</th>\n",
              "      <th>bd_um</th>\n",
              "      <th>activity</th>\n",
              "      <th>datetime</th>\n",
              "      <th>group</th>\n",
              "      <th>time_sec_round</th>\n",
              "    </tr>\n",
              "  </thead>\n",
              "  <tbody>\n",
              "    <tr>\n",
              "      <th>2</th>\n",
              "      <td>050521</td>\n",
              "      <td>1370</td>\n",
              "      <td>0.00</td>\n",
              "      <td>0.0</td>\n",
              "      <td>0.0</td>\n",
              "      <td>0.0</td>\n",
              "      <td>0.0</td>\n",
              "      <td>0.0</td>\n",
              "      <td>0.0</td>\n",
              "      <td>0.0</td>\n",
              "      <td>2021-05-05 14:25:48</td>\n",
              "      <td>bv</td>\n",
              "      <td>0.0</td>\n",
              "    </tr>\n",
              "    <tr>\n",
              "      <th>3</th>\n",
              "      <td>050521</td>\n",
              "      <td>1370</td>\n",
              "      <td>0.07</td>\n",
              "      <td>0.0</td>\n",
              "      <td>0.0</td>\n",
              "      <td>0.0</td>\n",
              "      <td>0.0</td>\n",
              "      <td>0.0</td>\n",
              "      <td>0.0</td>\n",
              "      <td>0.0</td>\n",
              "      <td>2021-05-05 14:25:48</td>\n",
              "      <td>bv</td>\n",
              "      <td>0.0</td>\n",
              "    </tr>\n",
              "    <tr>\n",
              "      <th>4</th>\n",
              "      <td>050521</td>\n",
              "      <td>1370</td>\n",
              "      <td>0.13</td>\n",
              "      <td>0.0</td>\n",
              "      <td>0.0</td>\n",
              "      <td>0.0</td>\n",
              "      <td>0.0</td>\n",
              "      <td>0.0</td>\n",
              "      <td>0.0</td>\n",
              "      <td>0.0</td>\n",
              "      <td>2021-05-05 14:25:48</td>\n",
              "      <td>bv</td>\n",
              "      <td>0.0</td>\n",
              "    </tr>\n",
              "    <tr>\n",
              "      <th>5</th>\n",
              "      <td>050521</td>\n",
              "      <td>1370</td>\n",
              "      <td>0.20</td>\n",
              "      <td>0.0</td>\n",
              "      <td>0.0</td>\n",
              "      <td>0.0</td>\n",
              "      <td>0.0</td>\n",
              "      <td>0.0</td>\n",
              "      <td>0.0</td>\n",
              "      <td>0.0</td>\n",
              "      <td>2021-05-05 14:25:48</td>\n",
              "      <td>bv</td>\n",
              "      <td>0.0</td>\n",
              "    </tr>\n",
              "    <tr>\n",
              "      <th>6</th>\n",
              "      <td>050521</td>\n",
              "      <td>1370</td>\n",
              "      <td>0.27</td>\n",
              "      <td>0.0</td>\n",
              "      <td>0.0</td>\n",
              "      <td>0.0</td>\n",
              "      <td>0.0</td>\n",
              "      <td>0.0</td>\n",
              "      <td>0.0</td>\n",
              "      <td>0.0</td>\n",
              "      <td>2021-05-05 14:25:48</td>\n",
              "      <td>bv</td>\n",
              "      <td>0.0</td>\n",
              "    </tr>\n",
              "  </tbody>\n",
              "</table>\n",
              "</div>"
            ],
            "text/plain": [
              "     date animal  time_sec  error_code  O2_sat  hr_bpm  br_brpm  pd_um  bd_um  activity            datetime group  time_sec_round\n",
              "2  050521  1370   0.00      0.0         0.0     0.0     0.0      0.0    0.0    0.0      2021-05-05 14:25:48  bv    0.0           \n",
              "3  050521  1370   0.07      0.0         0.0     0.0     0.0      0.0    0.0    0.0      2021-05-05 14:25:48  bv    0.0           \n",
              "4  050521  1370   0.13      0.0         0.0     0.0     0.0      0.0    0.0    0.0      2021-05-05 14:25:48  bv    0.0           \n",
              "5  050521  1370   0.20      0.0         0.0     0.0     0.0      0.0    0.0    0.0      2021-05-05 14:25:48  bv    0.0           \n",
              "6  050521  1370   0.27      0.0         0.0     0.0     0.0      0.0    0.0    0.0      2021-05-05 14:25:48  bv    0.0           "
            ]
          },
          "metadata": {
            "tags": []
          },
          "execution_count": 7
        }
      ]
    },
    {
      "cell_type": "code",
      "metadata": {
        "id": "CmJst7IOppCM",
        "outputId": "0c31b7ff-6abf-4493-9519-c1508d2aea3a"
      },
      "source": [
        "print(data_final_clean.shape)\n",
        "data_hr = data_final_clean[data_final_clean['O2_sat']>0]\n",
        "print(data_hr.shape)\n",
        "code_drops = [2,3,4,6,8,9]\n",
        "data_hr = data_hr[~data_hr['error_code'].isin(code_drops)]\n",
        "#data_hr = data_hr[data_hr['time_sec']<400]\n",
        "print(data_hr.shape)\n",
        "data_hr.head()"
      ],
      "execution_count": null,
      "outputs": [
        {
          "output_type": "stream",
          "text": [
            "(81020, 13)\n",
            "(75168, 13)\n",
            "(55971, 13)\n"
          ],
          "name": "stdout"
        },
        {
          "output_type": "execute_result",
          "data": {
            "text/html": [
              "<div>\n",
              "<style scoped>\n",
              "    .dataframe tbody tr th:only-of-type {\n",
              "        vertical-align: middle;\n",
              "    }\n",
              "\n",
              "    .dataframe tbody tr th {\n",
              "        vertical-align: top;\n",
              "    }\n",
              "\n",
              "    .dataframe thead th {\n",
              "        text-align: right;\n",
              "    }\n",
              "</style>\n",
              "<table border=\"1\" class=\"dataframe\">\n",
              "  <thead>\n",
              "    <tr style=\"text-align: right;\">\n",
              "      <th></th>\n",
              "      <th>date</th>\n",
              "      <th>animal</th>\n",
              "      <th>time_sec</th>\n",
              "      <th>error_code</th>\n",
              "      <th>O2_sat</th>\n",
              "      <th>hr_bpm</th>\n",
              "      <th>br_brpm</th>\n",
              "      <th>pd_um</th>\n",
              "      <th>bd_um</th>\n",
              "      <th>activity</th>\n",
              "      <th>datetime</th>\n",
              "      <th>group</th>\n",
              "      <th>time_sec_round</th>\n",
              "    </tr>\n",
              "  </thead>\n",
              "  <tbody>\n",
              "    <tr>\n",
              "      <th>339</th>\n",
              "      <td>050521</td>\n",
              "      <td>1370</td>\n",
              "      <td>22.47</td>\n",
              "      <td>0.0</td>\n",
              "      <td>92.1</td>\n",
              "      <td>669.0</td>\n",
              "      <td>209.0</td>\n",
              "      <td>153.8</td>\n",
              "      <td>0.0</td>\n",
              "      <td>0.0</td>\n",
              "      <td>2021-05-05 14:26:10</td>\n",
              "      <td>bv</td>\n",
              "      <td>22.0</td>\n",
              "    </tr>\n",
              "    <tr>\n",
              "      <th>340</th>\n",
              "      <td>050521</td>\n",
              "      <td>1370</td>\n",
              "      <td>22.53</td>\n",
              "      <td>0.0</td>\n",
              "      <td>92.1</td>\n",
              "      <td>669.0</td>\n",
              "      <td>209.0</td>\n",
              "      <td>153.8</td>\n",
              "      <td>0.0</td>\n",
              "      <td>0.0</td>\n",
              "      <td>2021-05-05 14:26:10</td>\n",
              "      <td>bv</td>\n",
              "      <td>23.0</td>\n",
              "    </tr>\n",
              "    <tr>\n",
              "      <th>341</th>\n",
              "      <td>050521</td>\n",
              "      <td>1370</td>\n",
              "      <td>22.60</td>\n",
              "      <td>0.0</td>\n",
              "      <td>92.1</td>\n",
              "      <td>669.0</td>\n",
              "      <td>209.0</td>\n",
              "      <td>153.8</td>\n",
              "      <td>0.0</td>\n",
              "      <td>0.0</td>\n",
              "      <td>2021-05-05 14:26:10</td>\n",
              "      <td>bv</td>\n",
              "      <td>23.0</td>\n",
              "    </tr>\n",
              "    <tr>\n",
              "      <th>342</th>\n",
              "      <td>050521</td>\n",
              "      <td>1370</td>\n",
              "      <td>22.67</td>\n",
              "      <td>0.0</td>\n",
              "      <td>92.1</td>\n",
              "      <td>667.0</td>\n",
              "      <td>209.0</td>\n",
              "      <td>153.8</td>\n",
              "      <td>0.0</td>\n",
              "      <td>0.0</td>\n",
              "      <td>2021-05-05 14:26:11</td>\n",
              "      <td>bv</td>\n",
              "      <td>23.0</td>\n",
              "    </tr>\n",
              "    <tr>\n",
              "      <th>343</th>\n",
              "      <td>050521</td>\n",
              "      <td>1370</td>\n",
              "      <td>22.73</td>\n",
              "      <td>0.0</td>\n",
              "      <td>92.1</td>\n",
              "      <td>667.0</td>\n",
              "      <td>209.0</td>\n",
              "      <td>153.8</td>\n",
              "      <td>0.0</td>\n",
              "      <td>0.0</td>\n",
              "      <td>2021-05-05 14:26:11</td>\n",
              "      <td>bv</td>\n",
              "      <td>23.0</td>\n",
              "    </tr>\n",
              "  </tbody>\n",
              "</table>\n",
              "</div>"
            ],
            "text/plain": [
              "       date animal  time_sec  error_code  O2_sat  hr_bpm  br_brpm  pd_um  bd_um  activity            datetime group  time_sec_round\n",
              "339  050521  1370   22.47     0.0         92.1    669.0   209.0    153.8  0.0    0.0      2021-05-05 14:26:10  bv    22.0          \n",
              "340  050521  1370   22.53     0.0         92.1    669.0   209.0    153.8  0.0    0.0      2021-05-05 14:26:10  bv    23.0          \n",
              "341  050521  1370   22.60     0.0         92.1    669.0   209.0    153.8  0.0    0.0      2021-05-05 14:26:10  bv    23.0          \n",
              "342  050521  1370   22.67     0.0         92.1    667.0   209.0    153.8  0.0    0.0      2021-05-05 14:26:11  bv    23.0          \n",
              "343  050521  1370   22.73     0.0         92.1    667.0   209.0    153.8  0.0    0.0      2021-05-05 14:26:11  bv    23.0          "
            ]
          },
          "metadata": {
            "tags": []
          },
          "execution_count": 24
        }
      ]
    },
    {
      "cell_type": "code",
      "metadata": {
        "id": "atT_3sHeppCN",
        "outputId": "fbdfaf3d-e856-4e2c-816d-d7fc823a83ea"
      },
      "source": [
        "plt.figure(figsize=(15,15))\n",
        "sns.lineplot(x='time_sec', y='O2_sat', data=data_hr, ci=None, hue='group')\n",
        "plt.show()"
      ],
      "execution_count": null,
      "outputs": [
        {
          "output_type": "display_data",
          "data": {
            "image/png": "[encoded data removed]",
            "text/plain": [
              "<Figure size 1080x1080 with 1 Axes>"
            ]
          },
          "metadata": {
            "tags": []
          }
        }
      ]
    },
    {
      "cell_type": "code",
      "metadata": {
        "id": "V2skdQCsppCN"
      },
      "source": [
        ""
      ],
      "execution_count": null,
      "outputs": []
    }
  ]
}